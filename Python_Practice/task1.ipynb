{
 "cells": [
  {
   "cell_type": "code",
   "execution_count": null,
   "id": "04f531cf",
   "metadata": {},
   "outputs": [],
   "source": [
    "# This program computes and prints all the factors of a given number\n",
    "\n",
    "def print_factors(x):\n",
    "    \"\"\"Print all the factors of the given number x.\"\"\"\n",
    "    print(f\"The factors of {x} are:\")\n",
    "    for i in range(1, x + 1):\n",
    "        if x % i == 0:\n",
    "            print(i)\n",
    "\n",
    "# Just call the function directly in Colab\n",
    "num = int(input(\"Enter a number: \"))\n",
    "print_factors(num)"
   ]
  },
  {
   "cell_type": "code",
   "execution_count": null,
   "id": "7b41dd8d",
   "metadata": {},
   "outputs": [],
   "source": [
    "\n",
    "# Just call the function directly in Colab\n",
    "num = int(input(\"Enter a number: \"))\n",
    "print_factors(num)"
   ]
  },
  {
   "cell_type": "code",
   "execution_count": null,
   "id": "3c0de384",
   "metadata": {},
   "outputs": [],
   "source": []
  }
 ],
 "metadata": {
  "kernelspec": {
   "display_name": "Python 3",
   "language": "python",
   "name": "python3"
  },
  "language_info": {
   "codemirror_mode": {
    "name": "ipython",
    "version": 3
   },
   "file_extension": ".py",
   "mimetype": "text/x-python",
   "name": "python",
   "nbconvert_exporter": "python",
   "pygments_lexer": "ipython3",
   "version": "3.8.8"
  }
 },
 "nbformat": 4,
 "nbformat_minor": 5
}
